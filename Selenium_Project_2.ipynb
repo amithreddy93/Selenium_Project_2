{
 "cells": [
  {
   "cell_type": "code",
   "execution_count": 3,
   "metadata": {},
   "outputs": [],
   "source": [
    "import selenium\n",
    "import pandas as pd\n",
    "from selenium import webdriver"
   ]
  },
  {
   "cell_type": "markdown",
   "metadata": {},
   "source": [
    "# Q1 & Q2 Web Scraping of product details searched in amazon.in"
   ]
  },
  {
   "cell_type": "code",
   "execution_count": 50,
   "metadata": {},
   "outputs": [],
   "source": [
    "driver  = webdriver.Chrome(\"chromedriver.exe\")"
   ]
  },
  {
   "cell_type": "code",
   "execution_count": 51,
   "metadata": {},
   "outputs": [],
   "source": [
    "url = 'https://www.amazon.in/'\n",
    "driver.get(url)"
   ]
  },
  {
   "cell_type": "code",
   "execution_count": 52,
   "metadata": {},
   "outputs": [
    {
     "data": {
      "text/plain": [
       "<selenium.webdriver.remote.webelement.WebElement (session=\"88e4e1a302de4a2b2076de41f614b496\", element=\"e9b61daf-7d69-431d-9fde-209375331df9\")>"
      ]
     },
     "execution_count": 52,
     "metadata": {},
     "output_type": "execute_result"
    }
   ],
   "source": [
    "search_job = driver.find_element_by_id('twotabsearchtextbox')\n",
    "search_job"
   ]
  },
  {
   "cell_type": "code",
   "execution_count": 53,
   "metadata": {},
   "outputs": [],
   "source": [
    "input = 'Guitar'\n",
    "search_job.send_keys(input)"
   ]
  },
  {
   "cell_type": "code",
   "execution_count": 54,
   "metadata": {},
   "outputs": [],
   "source": [
    "search_button = driver.find_element_by_id(\"nav-search-submit-button\")\n",
    "search_button.click()\n"
   ]
  },
  {
   "cell_type": "code",
   "execution_count": 55,
   "metadata": {},
   "outputs": [
    {
     "data": {
      "text/plain": [
       "['https://www.amazon.in/gp/slredirect/picassoRedirect.html/ref=pa_sp_atf_aps_sr_pg1_1?ie=UTF8&adId=A05211881ZGJIHX360ZMV&url=%2FKadence-Frontier-Acoustic-Guitar-Equalizer%2Fdp%2FB01HRIHJWY%2Fref%3Dsr_1_1_sspa%3Fdchild%3D1%26keywords%3DGuitar%26qid%3D1625403853%26sr%3D8-1-spons%26psc%3D1&qualifier=1625403853&id=2231746092166571&widgetName=sp_atf',\n",
       " 'https://www.amazon.in/gp/slredirect/picassoRedirect.html/ref=pa_sp_atf_aps_sr_pg1_1?ie=UTF8&adId=A04763212030HM2M4H8OM&url=%2FJUAREZ-Arp%25C3%25A9ggio-Acoustic-Guitar-Spruce%2Fdp%2FB08KGCFXKP%2Fref%3Dsr_1_2_sspa%3Fdchild%3D1%26keywords%3DGuitar%26qid%3D1625403853%26sr%3D8-2-spons%26psc%3D1&qualifier=1625403853&id=2231746092166571&widgetName=sp_atf',\n",
       " 'https://www.amazon.in/gp/slredirect/picassoRedirect.html/ref=pa_sp_atf_aps_sr_pg1_1?ie=UTF8&adId=A09285301NZJT1BBLJ0LW&url=%2FKadence-Frontier-Acoustic-Foldable-Strings%2Fdp%2FB01CJJGEVS%2Fref%3Dsr_1_3_sspa%3Fdchild%3D1%26keywords%3DGuitar%26qid%3D1625403853%26sr%3D8-3-spons%26psc%3D1&qualifier=1625403853&id=2231746092166571&widgetName=sp_atf',\n",
       " 'https://www.amazon.in/gp/slredirect/picassoRedirect.html/ref=pa_sp_atf_aps_sr_pg1_1?ie=UTF8&adId=A00103562TH7ZMEL1FOWU&url=%2FKadence-Slowhand-Premium-Acoustic-Instrument%2Fdp%2FB077SZ667X%2Fref%3Dsr_1_4_sspa%3Fdchild%3D1%26keywords%3DGuitar%26qid%3D1625403853%26sr%3D8-4-spons%26psc%3D1&qualifier=1625403853&id=2231746092166571&widgetName=sp_atf',\n",
       " 'https://www.amazon.in/Juarez-Acoustic-Cutaway-038C-Strings/dp/B017NPCSLI/ref=sr_1_5?dchild=1&keywords=Guitar&qid=1625403853&sr=8-5',\n",
       " 'https://www.amazon.in/JUAREZ-JRZ38C-Acoustic-Sunburst-Strings/dp/B01FYYTDS6/ref=sr_1_6?dchild=1&keywords=Guitar&qid=1625403853&sr=8-6',\n",
       " 'https://www.amazon.in/JUAREZ-JRZ38C-Acoustic-Sunburst-Strings/dp/B01FYYTDTU/ref=sr_1_7?dchild=1&keywords=Guitar&qid=1625403853&sr=8-7',\n",
       " 'https://www.amazon.in/Juarez-Acoustic-Cutaway-038C-Strings/dp/B017NPCSLI/ref=sxin_11?asc_contentid=amzn1.osa.c9f832fe-8720-44a6-bbf1-1744c27d503b.A21TJRUUN4KGV.en_IN&asc_contenttype=article&ascsubtag=amzn1.osa.c9f832fe-8720-44a6-bbf1-1744c27d503b.A21TJRUUN4KGV.en_IN&creativeASIN=B017NPCSLI&cv_ct_cx=Guitar&cv_ct_id=amzn1.osa.c9f832fe-8720-44a6-bbf1-1744c27d503b.A21TJRUUN4KGV.en_IN&cv_ct_pg=search&cv_ct_we=asin&cv_ct_wn=osp-single-source-earns-comm&dchild=1&keywords=Guitar&linkCode=oas&pd_rd_i=B017NPCSLI&pd_rd_r=a081d880-448f-4969-b7b9-d42c97cca503&pd_rd_w=bbDzT&pd_rd_wg=ZoaPW&pf_rd_p=85e157eb-8312-4fce-bfb5-78223bced751&pf_rd_r=XMFWD9TKJD97M99E6FHD&qid=1625403853&sr=1-1-61f4c597-7a45-4a97-bd75-c52903f8ee93&tag=htsyndicate-21',\n",
       " 'https://www.amazon.in/Intern-INT-38C-Acoustic-Guitar-Black/dp/B073B6TQQY/ref=sxin_11?asc_contentid=amzn1.osa.c9f832fe-8720-44a6-bbf1-1744c27d503b.A21TJRUUN4KGV.en_IN&asc_contenttype=article&ascsubtag=amzn1.osa.c9f832fe-8720-44a6-bbf1-1744c27d503b.A21TJRUUN4KGV.en_IN&creativeASIN=B073B6TQQY&cv_ct_cx=Guitar&cv_ct_id=amzn1.osa.c9f832fe-8720-44a6-bbf1-1744c27d503b.A21TJRUUN4KGV.en_IN&cv_ct_pg=search&cv_ct_we=asin&cv_ct_wn=osp-single-source-earns-comm&dchild=1&keywords=Guitar&linkCode=oas&pd_rd_i=B073B6TQQY&pd_rd_r=a081d880-448f-4969-b7b9-d42c97cca503&pd_rd_w=bbDzT&pd_rd_wg=ZoaPW&pf_rd_p=85e157eb-8312-4fce-bfb5-78223bced751&pf_rd_r=XMFWD9TKJD97M99E6FHD&qid=1625403853&sr=1-2-61f4c597-7a45-4a97-bd75-c52903f8ee93&tag=htsyndicate-21',\n",
       " 'https://www.amazon.in/JUAREZ-JRZ38C-Acoustic-Sunburst-Strings/dp/B01FYYTDTU/ref=sxin_11?asc_contentid=amzn1.osa.c9f832fe-8720-44a6-bbf1-1744c27d503b.A21TJRUUN4KGV.en_IN&asc_contenttype=article&ascsubtag=amzn1.osa.c9f832fe-8720-44a6-bbf1-1744c27d503b.A21TJRUUN4KGV.en_IN&creativeASIN=B01FYYTDTU&cv_ct_cx=Guitar&cv_ct_id=amzn1.osa.c9f832fe-8720-44a6-bbf1-1744c27d503b.A21TJRUUN4KGV.en_IN&cv_ct_pg=search&cv_ct_we=asin&cv_ct_wn=osp-single-source-earns-comm&dchild=1&keywords=Guitar&linkCode=oas&pd_rd_i=B01FYYTDTU&pd_rd_r=a081d880-448f-4969-b7b9-d42c97cca503&pd_rd_w=bbDzT&pd_rd_wg=ZoaPW&pf_rd_p=85e157eb-8312-4fce-bfb5-78223bced751&pf_rd_r=XMFWD9TKJD97M99E6FHD&qid=1625403853&sr=1-3-61f4c597-7a45-4a97-bd75-c52903f8ee93&tag=htsyndicate-21',\n",
       " 'https://www.amazon.in/Premium-Spruce-Top-Cutaway-Acoustic-Guitar/dp/B08FFZY6BJ/ref=sxin_11?asc_contentid=amzn1.osa.c9f832fe-8720-44a6-bbf1-1744c27d503b.A21TJRUUN4KGV.en_IN&asc_contenttype=article&ascsubtag=amzn1.osa.c9f832fe-8720-44a6-bbf1-1744c27d503b.A21TJRUUN4KGV.en_IN&creativeASIN=B08FFZY6BJ&cv_ct_cx=Guitar&cv_ct_id=amzn1.osa.c9f832fe-8720-44a6-bbf1-1744c27d503b.A21TJRUUN4KGV.en_IN&cv_ct_pg=search&cv_ct_we=asin&cv_ct_wn=osp-single-source-earns-comm&dchild=1&keywords=Guitar&linkCode=oas&pd_rd_i=B08FFZY6BJ&pd_rd_r=a081d880-448f-4969-b7b9-d42c97cca503&pd_rd_w=bbDzT&pd_rd_wg=ZoaPW&pf_rd_p=85e157eb-8312-4fce-bfb5-78223bced751&pf_rd_r=XMFWD9TKJD97M99E6FHD&qid=1625403853&sr=1-4-61f4c597-7a45-4a97-bd75-c52903f8ee93&tag=htsyndicate-21',\n",
       " 'https://www.amazon.in/Juarez-Acoustic-Guitar-Cutaway-Strings/dp/B075XMRKMY/ref=sr_1_8?dchild=1&keywords=Guitar&qid=1625403853&sr=8-8',\n",
       " 'https://www.amazon.in/Kadence-Frontier-Acoustic-Guitar-Strings/dp/B078GTJP5Y/ref=sr_1_9?dchild=1&keywords=Guitar&qid=1625403853&smid=A3HL8HT148CJU9&sr=8-9',\n",
       " 'https://www.amazon.in/Kadence-Frontier-Acoustic-Guitar-Strings/dp/B01GDZ46AA/ref=sr_1_10?dchild=1&keywords=Guitar&qid=1625403853&sr=8-10',\n",
       " 'https://www.amazon.in/4-String-Acoustic-Musical-Instrument-Learning/dp/B08QGLQVRN/ref=sr_1_11?dchild=1&keywords=Guitar&qid=1625403853&sr=8-11',\n",
       " 'https://www.amazon.in/Juarez-Strings-Acoustic-Cutaway-Zebrawood/dp/B072Q9L8DG/ref=sr_1_12?dchild=1&keywords=Guitar&qid=1625403853&sr=8-12',\n",
       " 'https://www.amazon.in/SAAN-Life-Science-Instrument-Educational/dp/B08QFQRRYV/ref=sr_1_13?dchild=1&keywords=Guitar&qid=1625403853&sr=8-13',\n",
       " 'https://www.amazon.in/Giuson-Venus-Black-Acoustic-Strings/dp/B089GNM189/ref=sr_1_14?dchild=1&keywords=Guitar&qid=1625403853&sr=8-14',\n",
       " 'https://www.amazon.in/Kadence-6-strings-Acoustic-Guitar-Natural/dp/B07JKYWGJN/ref=sr_1_15?dchild=1&keywords=Guitar&qid=1625403853&sr=8-15',\n",
       " 'https://www.amazon.in/Intern-INT-38C-Acoustic-Guitar-Kit/dp/B073B6TF31/ref=sr_1_16?dchild=1&keywords=Guitar&qid=1625403853&sr=8-16',\n",
       " 'https://www.amazon.in/Medellin-MED-BLU-C-Linden-Acoustic-Guitar/dp/B07NBMWHJW/ref=sr_1_17?dchild=1&keywords=Guitar&qid=1625403853&sr=8-17',\n",
       " 'https://www.amazon.in/Henrix-Cutaway-Acoustic-Die-Cast-Tuners/dp/B07KMXDXBV/ref=sr_1_18?dchild=1&keywords=Guitar&qid=1625403853&smid=A2E0IZ06LXDJ9X&sr=8-18',\n",
       " 'https://www.amazon.in/Guitar-Ukulele-Chromatic-Rotating-Accurate/dp/B08XBN94LC/ref=sr_1_19?dchild=1&keywords=Guitar&qid=1625403853&sr=8-19',\n",
       " 'https://www.amazon.in/Guitar-Accessories-Including-acoustic-electric/dp/B08XBZB5RN/ref=sr_1_20?dchild=1&keywords=Guitar&qid=1625403853&sr=8-20',\n",
       " 'https://www.amazon.in/gp/slredirect/picassoRedirect.html/ref=pa_sp_mtf_aps_sr_pg1_1?ie=UTF8&adId=A04201121DK34WO2CQ71G&url=%2FGUITAR-BRO-Learning-1-Accessories%2Fdp%2FB08BNBYVYL%2Fref%3Dsr_1_21_sspa%3Fdchild%3D1%26keywords%3DGuitar%26qid%3D1625403853%26sr%3D8-21-spons%26psc%3D1&qualifier=1625403853&id=2231746092166571&widgetName=sp_mtf',\n",
       " 'https://www.amazon.in/gp/slredirect/picassoRedirect.html/ref=pa_sp_mtf_aps_sr_pg1_1?ie=UTF8&adId=A0544814GMYG4B2WGTJ6&url=%2FGUITAR-BRO-Acoustic-Beginner-Accessories%2Fdp%2FB07T84GC8L%2Fref%3Dsr_1_22_sspa%3Fdchild%3D1%26keywords%3DGuitar%26qid%3D1625403853%26sr%3D8-22-spons%26psc%3D1&qualifier=1625403853&id=2231746092166571&widgetName=sp_mtf',\n",
       " 'https://www.amazon.in/gp/slredirect/picassoRedirect.html/ref=pa_sp_mtf_aps_sr_pg1_1?ie=UTF8&adId=A1022577WZBVZQ5PBCFH&url=%2FOOM-AKSHAR-Childrens-Instrument-Educational%2Fdp%2FB092DTYHR5%2Fref%3Dsr_1_23_sspa%3Fdchild%3D1%26keywords%3DGuitar%26qid%3D1625403853%26sr%3D8-23-spons%26psc%3D1&qualifier=1625403853&id=2231746092166571&widgetName=sp_mtf',\n",
       " 'https://www.amazon.in/gp/slredirect/picassoRedirect.html/ref=pa_sp_mtf_aps_sr_pg1_1?ie=UTF8&adId=A05431372N1Y6KMFTYW6Y&url=%2FDEVICE-URBAN-INFOTECH-Rotational-Electronic%2Fdp%2FB081LG3X5H%2Fref%3Dsr_1_24_sspa%3Fdchild%3D1%26keywords%3DGuitar%26qid%3D1625403853%26sr%3D8-24-spons%26psc%3D1&qualifier=1625403853&id=2231746092166571&widgetName=sp_mtf',\n",
       " 'https://www.amazon.in/Kadence-Acoustica-Ash-Wood-Equlizer/dp/B0757H5P13/ref=sr_1_25?dchild=1&keywords=Guitar&qid=1625403853&sr=8-25',\n",
       " 'https://www.amazon.in/Intern-38-inch-Cutaway-Design-Acoustic/dp/B07X4PN85R/ref=sr_1_26?dchild=1&keywords=Guitar&qid=1625403853&sr=8-26',\n",
       " 'https://www.amazon.in/JUAREZ-JRZ38C-Acoustic-Natural-Strings/dp/B01FYYTDWC/ref=sr_1_27?dchild=1&keywords=Guitar&qid=1625403853&sr=8-27',\n",
       " 'https://www.amazon.in/Perlman-Fretboard-Fingerboard-Stickers-Beginner/dp/B096ZDSWJ4/ref=sr_1_28?dchild=1&keywords=Guitar&qid=1625403853&sr=8-28',\n",
       " 'https://www.amazon.in/Mustang-Strings-Changing-Including-Beginner/dp/B07S19LGLR/ref=sr_1_29?dchild=1&keywords=Guitar&qid=1625403853&sr=8-29',\n",
       " 'https://www.amazon.in/Juarez-Acoustic-Guitar-Cutaway-Strings/dp/B084VRCCN7/ref=sr_1_30?dchild=1&keywords=Guitar&qid=1625403853&sr=8-30',\n",
       " 'https://www.amazon.in/Yamaha-FS100C-Acoustic-Guitars-Natural/dp/B00QKD79QE/ref=sr_1_31?dchild=1&keywords=Guitar&qid=1625403853&sr=8-31',\n",
       " 'https://www.amazon.in/Luximal-Instrument-Acoustic-Learning-Educational/dp/B08SMKVC7Q/ref=sr_1_32?dchild=1&keywords=Guitar&qid=1625403853&sr=8-32',\n",
       " 'https://www.amazon.in/Henrix-Handed-Cutway-Acoustic-Polishing/dp/B08R3DKYGM/ref=sr_1_33?dchild=1&keywords=Guitar&qid=1625403853&sr=8-33',\n",
       " 'https://www.amazon.in/Intern-INT-38C-Sunburst-Acoustic-Guitar/dp/B07X1J4D3Z/ref=sr_1_34?dchild=1&keywords=Guitar&qid=1625403853&sr=8-34',\n",
       " 'https://www.amazon.in/4-String-Musical-Instrument-Acoustic-Learning/dp/B08ZSVQ6Q8/ref=sr_1_35?dchild=1&keywords=Guitar&qid=1625403853&sr=8-35',\n",
       " 'https://www.amazon.in/Crizer-Childrens-Instrument-Educational-Instruments/dp/B08R7J8LLM/ref=sr_1_36?dchild=1&keywords=Guitar&qid=1625403853&sr=8-36',\n",
       " 'https://www.amazon.in/Divinext-Interface-Guitar-Effects-iPhone/dp/B07RT3FHZT/ref=sr_1_37?dchild=1&keywords=Guitar&qid=1625403853&sr=8-37',\n",
       " 'https://www.amazon.in/Yamaha-F310-6-Strings-Acoustic-Natural/dp/B000RVYW7E/ref=sr_1_38?dchild=1&keywords=Guitar&qid=1625403853&sr=8-38',\n",
       " 'https://www.amazon.in/CARTIFY-4-string-acoustic-learning-18-Multi/dp/B096K5S6BB/ref=sr_1_39?dchild=1&keywords=Guitar&qid=1625403853&sr=8-39',\n",
       " 'https://www.amazon.in/Ibanez-IBA-MD39CNT-Acoustic-Guitar-MD39C-NT/dp/B07G4CCMYL/ref=sr_1_40?dchild=1&keywords=Guitar&qid=1625403853&sr=8-40',\n",
       " 'https://www.amazon.in/JUAREZ-Arpeggio-Acoustic-Rosewood-Fretboard/dp/B08LBH3FG9/ref=sr_1_41?dchild=1&keywords=Guitar&qid=1625403853&sr=8-41',\n",
       " 'https://www.amazon.in/Juarez-Acoustic-Cutaway-BK-Strings/dp/B076T3RHMG/ref=sr_1_42?dchild=1&keywords=Guitar&qid=1625403853&sr=8-42',\n",
       " 'https://www.amazon.in/JUAREZ-Acoustic-Guitar-3TS-Sunburst/dp/B08FV1KHTT/ref=sr_1_43?dchild=1&keywords=Guitar&qid=1625403853&sr=8-43',\n",
       " 'https://www.amazon.in/Traveller-Acoustic-Guitar-Strings-Polishing/dp/B07RK9962M/ref=sr_1_44?dchild=1&keywords=Guitar&qid=1625403853&sr=8-44',\n",
       " 'https://www.amazon.in/Kadence-Slowhand-Premium-Acoustic-Instrument/dp/B077SZ667X/ref=sr_1_45?dchild=1&keywords=Guitar&qid=1625403853&sr=8-45',\n",
       " 'https://www.amazon.in/beecow-4-String-Acoustic-Instrument-Learning/dp/B08TR3PC1Q/ref=sr_1_46?dchild=1&keywords=Guitar&qid=1625403853&sr=8-46',\n",
       " 'https://www.amazon.in/JUAREZ-Arp%C3%A9ggio-Acoustic-Guitar-Spruce/dp/B08KGCFXKP/ref=sr_1_47?dchild=1&keywords=Guitar&qid=1625403853&sr=8-47',\n",
       " 'https://www.amazon.in/Givson-Special-Guitar-VS-BLK-Acoustic/dp/B07SZ5KR61/ref=sr_1_48?dchild=1&keywords=Guitar&qid=1625403853&sr=8-48',\n",
       " 'https://www.amazon.in/Juarez-JRZ-ST01-6-String-Electric-Without/dp/B01FYZSOGM/ref=sr_1_49?dchild=1&keywords=Guitar&qid=1625403853&sr=8-49',\n",
       " 'https://www.amazon.in/JRZ-ST01-6-String-Electric-Sunburst-Without/dp/B01FYZSOEE/ref=sr_1_50?dchild=1&keywords=Guitar&qid=1625403853&sr=8-50',\n",
       " 'https://www.amazon.in/Paybox-Childrens-Instrument-Educational-Instruments/dp/B08XJLYG9C/ref=sr_1_51?dchild=1&keywords=Guitar&qid=1625403853&sr=8-51',\n",
       " 'https://www.amazon.in/JUAREZ-Arpeggio-Acoustic-Rosewood-Fretboard/dp/B08LBHN8ZR/ref=sr_1_52?dchild=1&keywords=Guitar&qid=1625403853&sr=8-52',\n",
       " 'https://www.amazon.in/SOUVENIR-Guitar-Calibration-Accurate-Electronic/dp/B08Y5X7M36/ref=sr_1_53?dchild=1&keywords=Guitar&qid=1625403853&sr=8-53',\n",
       " 'https://www.amazon.in/JUAREZ-Arpeggio-Semi-Acoustic-Rosewood-Fretboard/dp/B08LBG3F36/ref=sr_1_54?dchild=1&keywords=Guitar&qid=1625403853&sr=8-54',\n",
       " 'https://www.amazon.in/SBU-4-String-Acoustic-Guitar-Learning/dp/B08RDWDF19/ref=sr_1_55?dchild=1&keywords=Guitar&qid=1625403853&sr=8-55',\n",
       " 'https://www.amazon.in/RockJam-RJEG02-SK-BB-Electric-Guitar-Starter/dp/B0747TD557/ref=sr_1_56?dchild=1&keywords=Guitar&qid=1625403853&sr=8-56',\n",
       " 'https://www.amazon.in/gp/slredirect/picassoRedirect.html/ref=pa_sp_btf_aps_sr_pg1_1?ie=UTF8&adId=A0702728AFE4O75OWI50&url=%2FLaxmi-Musical-Electronics-Acoustic-Instruments%2Fdp%2FB08X4KD6P1%2Fref%3Dsr_1_57_sspa%3Fdchild%3D1%26keywords%3DGuitar%26qid%3D1625403853%26sr%3D8-57-spons%26psc%3D1&qualifier=1625403853&id=2231746092166571&widgetName=sp_btf',\n",
       " 'https://www.amazon.in/gp/slredirect/picassoRedirect.html/ref=pa_sp_btf_aps_sr_pg1_1?ie=UTF8&adId=A04589493BAOEK201V1CY&url=%2FHRB-MUSICALS-GUITAR-STRING-WINDER%2Fdp%2FB07SJQ2C8G%2Fref%3Dsr_1_58_sspa%3Fdchild%3D1%26keywords%3DGuitar%26qid%3D1625403853%26sr%3D8-58-spons%26psc%3D1&qualifier=1625403853&id=2231746092166571&widgetName=sp_btf',\n",
       " 'https://www.amazon.in/gp/slredirect/picassoRedirect.html/ref=pa_sp_btf_aps_sr_pg1_1?ie=UTF8&adId=A05703491HTBA8CLBYZGC&url=%2FDEVICE-URBAN-INFOTECH-Acoustic-Semi-closed%2Fdp%2FB08P1JS4DF%2Fref%3Dsr_1_59_sspa%3Fdchild%3D1%26keywords%3DGuitar%26qid%3D1625403853%26sr%3D8-59-spons%26psc%3D1&qualifier=1625403853&id=2231746092166571&widgetName=sp_btf',\n",
       " 'https://www.amazon.in/gp/slredirect/picassoRedirect.html/ref=pa_sp_btf_aps_sr_pg1_1?ie=UTF8&adId=A0503610JEFW5BFVERUA&url=%2FDEVICE-URBAN-INFOTECH-Acoustic-Semi-closed%2Fdp%2FB08Y7LMRBR%2Fref%3Dsr_1_60_sspa%3Fdchild%3D1%26keywords%3DGuitar%26qid%3D1625403853%26sr%3D8-60-spons%26psc%3D1&qualifier=1625403853&id=2231746092166571&widgetName=sp_btf']"
      ]
     },
     "execution_count": 55,
     "metadata": {},
     "output_type": "execute_result"
    }
   ],
   "source": [
    "urls = []\n",
    "title_tags = driver.find_elements_by_xpath(\"//a[@class='a-link-normal s-no-outline']\")\n",
    "for i in title_tags:\n",
    "    urls.append(i.get_attribute('href'))\n",
    "urls\n"
   ]
  },
  {
   "cell_type": "code",
   "execution_count": 56,
   "metadata": {},
   "outputs": [
    {
     "data": {
      "text/plain": [
       "['https://www.amazon.in/s?k=Guitar&page=2&qid=1625403853&ref=sr_pg_2',\n",
       " 'https://www.amazon.in/s?k=Guitar&page=3&qid=1625403853&ref=sr_pg_3']"
      ]
     },
     "execution_count": 56,
     "metadata": {},
     "output_type": "execute_result"
    }
   ],
   "source": [
    "# Getting links for 2nd and 3rd page\n",
    "new_pages_links = []\n",
    "new_pages = driver.find_elements_by_xpath(\"//li[@class='a-normal']//*[@href]\")\n",
    "for i in new_pages:\n",
    "    new_pages_links.append(i.get_attribute('href'))\n",
    "new_pages_links"
   ]
  },
  {
   "cell_type": "code",
   "execution_count": 57,
   "metadata": {},
   "outputs": [],
   "source": [
    "# Getting the website links of all the items in 2nd and 3rd pages\n",
    "import time\n",
    "from selenium.common.exceptions import NoSuchElementException\n",
    "from selenium.webdriver.support.ui import WebDriverWait\n",
    "from selenium.webdriver.support import expected_conditions as EC\n",
    "from selenium.webdriver.common.by import By\n",
    "for i in new_pages_links:\n",
    "    driver.get(i)\n",
    "    delay =10\n",
    "    WebDriverWait(driver,delay).until(EC.element_to_be_clickable((By.XPATH,\"//li[@class='a-normal']//*[@href]\")))\n",
    "    title_tags = driver.find_elements_by_xpath(\"//a[@class='a-link-normal s-no-outline']\")\n",
    "    for i in title_tags:\n",
    "        urls.append(i.get_attribute('href'))\n"
   ]
  },
  {
   "cell_type": "code",
   "execution_count": 58,
   "metadata": {},
   "outputs": [
    {
     "data": {
      "text/plain": [
       "162"
      ]
     },
     "execution_count": 58,
     "metadata": {},
     "output_type": "execute_result"
    }
   ],
   "source": [
    "len(urls)"
   ]
  },
  {
   "cell_type": "code",
   "execution_count": 137,
   "metadata": {},
   "outputs": [],
   "source": [
    "from selenium.common.exceptions import StaleElementReferenceException\n",
    "\n",
    "brand_name=[]\n",
    "product_name = []\n",
    "rating = []\n",
    "no_of_ratings = []\n",
    "price = []\n",
    "return_or_exchange = []\n",
    "delivery_by = []\n",
    "availability = []\n",
    "other_details = []\n",
    "product_url = []\n",
    "\n",
    "for i in urls:\n",
    "    driver.get(i)\n",
    "    product_url.append(i)\n",
    "    #Scraping the brand names\n",
    "    try:\n",
    "        brand_tag = driver.find_element_by_xpath(\"//td[@class='a-span9']//span[@class='a-size-base']\")\n",
    "    except NoSuchElementException:\n",
    "        pass\n",
    "    try:\n",
    "        if brand_tag.text is None:\n",
    "            brand_name.append('-')\n",
    "        else:\n",
    "            brand_name.append(brand_tag.text)\n",
    "    except StaleElementReferenceException:\n",
    "        brand_name.append('-')\n",
    "    #Scraping the Product names\n",
    "    product_tag = driver.find_element_by_id(\"productTitle\")\n",
    "    if product_tag.text is None:\n",
    "        product_name.append('-')\n",
    "    else:\n",
    "        product_name.append(product_tag.text)\n",
    "        \n",
    "    #Scraping the rating and No of Ratings\n",
    "    try:\n",
    "        rating_tag = driver.find_element_by_xpath(\"//td[@class='a-size-base']\")\n",
    "    except NoSuchElementException:\n",
    "        pass\n",
    "    try:\n",
    "        if rating_tag.text is None:\n",
    "            rating.append('-')\n",
    "            no_of_ratings.append('-')\n",
    "        else:\n",
    "            rating.append(rating_tag.text.split('\\n',1)[1])\n",
    "            no_of_ratings.append(rating_tag.text.split('\\n',1)[0])\n",
    "    except StaleElementReferenceException:\n",
    "            rating.append('-')\n",
    "            no_of_ratings.append('-')\n",
    "    #Scraping the Prices\n",
    "    try:\n",
    "        price_tag = driver.find_element_by_xpath(\"//td[@class='a-span12']\")\n",
    "    except NoSuchElementException:\n",
    "        pass\n",
    "\n",
    "    try:\n",
    "        if price_tag.text is None:\n",
    "            price.append('-')\n",
    "            availability.append('Not Available')\n",
    "        else:\n",
    "            price.append(price_tag.text.replace('₹ ',''))\n",
    "            availability.append('Available')\n",
    "    except StaleElementReferenceException:\n",
    "        price.append('-')\n",
    "        availability.append('Not Available')\n",
    "\n",
    "    \n",
    "\n",
    "    #Scraping the Return or Exchange\n",
    "    return_tag = driver.find_elements_by_xpath(\"//a[@class='a-size-small a-link-normal a-text-normal']\")\n",
    "    if len(return_tag) <3 :\n",
    "        return_or_exchange.append(return_tag[0].text)\n",
    "    else:\n",
    "        return_or_exchange.append(return_tag[1].text)\n",
    "        \n",
    "    #Scraping the delivery by\n",
    "    try:\n",
    "        delivery_tag = driver.find_element_by_xpath(\"//div[@id='ddmDeliveryMessage']//b\")\n",
    "    except NoSuchElementException:\n",
    "        pass\n",
    "    try:\n",
    "        if delivery_tag.text is None:\n",
    "            delivery_by.append('-')\n",
    "        else:\n",
    "            delivery_by.append(delivery_tag.text)\n",
    "    except StaleElementReferenceException:\n",
    "        delivery_by.append('-')  \n",
    "         \n",
    "        "
   ]
  },
  {
   "cell_type": "code",
   "execution_count": 138,
   "metadata": {},
   "outputs": [
    {
     "data": {
      "text/html": [
       "<div>\n",
       "<style scoped>\n",
       "    .dataframe tbody tr th:only-of-type {\n",
       "        vertical-align: middle;\n",
       "    }\n",
       "\n",
       "    .dataframe tbody tr th {\n",
       "        vertical-align: top;\n",
       "    }\n",
       "\n",
       "    .dataframe thead th {\n",
       "        text-align: right;\n",
       "    }\n",
       "</style>\n",
       "<table border=\"1\" class=\"dataframe\">\n",
       "  <thead>\n",
       "    <tr style=\"text-align: right;\">\n",
       "      <th></th>\n",
       "      <th>Product</th>\n",
       "      <th>Brand</th>\n",
       "      <th>Price</th>\n",
       "      <th>Rating</th>\n",
       "      <th>No of Ratings</th>\n",
       "      <th>Return_or_exchange</th>\n",
       "      <th>Delivery_by</th>\n",
       "      <th>Availability</th>\n",
       "      <th>Product_url</th>\n",
       "    </tr>\n",
       "  </thead>\n",
       "  <tbody>\n",
       "    <tr>\n",
       "      <th>0</th>\n",
       "      <td>Kadence Frontier Jumbo Semi Acoustic Guitar Wi...</td>\n",
       "      <td>Kadence</td>\n",
       "      <td>6,499.00</td>\n",
       "      <td>3.9 out of 5 stars</td>\n",
       "      <td>868 ratings</td>\n",
       "      <td>7 Days Replacement</td>\n",
       "      <td>Saturday, July 10</td>\n",
       "      <td>Available</td>\n",
       "      <td>https://www.amazon.in/gp/slredirect/picassoRed...</td>\n",
       "    </tr>\n",
       "    <tr>\n",
       "      <th>1</th>\n",
       "      <td>JUAREZ Arpéggio 41 Inch Acoustic Guitar Kit, S...</td>\n",
       "      <td>JUAREZ</td>\n",
       "      <td>-</td>\n",
       "      <td>4.0 out of 5 stars</td>\n",
       "      <td>11 ratings</td>\n",
       "      <td>7 Days Replacement</td>\n",
       "      <td>-</td>\n",
       "      <td>Not Available</td>\n",
       "      <td>https://www.amazon.in/gp/slredirect/picassoRed...</td>\n",
       "    </tr>\n",
       "    <tr>\n",
       "      <th>2</th>\n",
       "      <td>Kadence Frontier Series,Blue Acoustic Guitar W...</td>\n",
       "      <td>Kadence</td>\n",
       "      <td>4,999.00</td>\n",
       "      <td>4.0 out of 5 stars</td>\n",
       "      <td>249 ratings</td>\n",
       "      <td>7 Days Replacement</td>\n",
       "      <td>Saturday, July 10</td>\n",
       "      <td>Available</td>\n",
       "      <td>https://www.amazon.in/gp/slredirect/picassoRed...</td>\n",
       "    </tr>\n",
       "    <tr>\n",
       "      <th>3</th>\n",
       "      <td>Kadence Slowhand Premium Jumbo Semi Acoustic G...</td>\n",
       "      <td>Kadence</td>\n",
       "      <td>10,499.00</td>\n",
       "      <td>4.2 out of 5 stars</td>\n",
       "      <td>223 ratings</td>\n",
       "      <td>7 Days Replacement</td>\n",
       "      <td>Saturday, July 10</td>\n",
       "      <td>Available</td>\n",
       "      <td>https://www.amazon.in/gp/slredirect/picassoRed...</td>\n",
       "    </tr>\n",
       "    <tr>\n",
       "      <th>4</th>\n",
       "      <td>Juârez Acoustic Guitar, 38 Inch Cutaway, 038C ...</td>\n",
       "      <td>Juârez</td>\n",
       "      <td>2,499.00</td>\n",
       "      <td>3.9 out of 5 stars</td>\n",
       "      <td>10,755 ratings</td>\n",
       "      <td>7 Days Replacement</td>\n",
       "      <td>Saturday, July 10</td>\n",
       "      <td>Available</td>\n",
       "      <td>https://www.amazon.in/Juarez-Acoustic-Cutaway-...</td>\n",
       "    </tr>\n",
       "    <tr>\n",
       "      <th>...</th>\n",
       "      <td>...</td>\n",
       "      <td>...</td>\n",
       "      <td>...</td>\n",
       "      <td>...</td>\n",
       "      <td>...</td>\n",
       "      <td>...</td>\n",
       "      <td>...</td>\n",
       "      <td>...</td>\n",
       "      <td>...</td>\n",
       "    </tr>\n",
       "    <tr>\n",
       "      <th>157</th>\n",
       "      <td>FIRANDE Acoustic Guitar MF38C SunBurst 38 Inch...</td>\n",
       "      <td>FIRANDE</td>\n",
       "      <td>969.00</td>\n",
       "      <td>-</td>\n",
       "      <td>-</td>\n",
       "      <td>Amazon Delivered</td>\n",
       "      <td>Friday, July 9</td>\n",
       "      <td>Available</td>\n",
       "      <td>https://www.amazon.in/FIRANDE-Acoustic-SunBurs...</td>\n",
       "    </tr>\n",
       "    <tr>\n",
       "      <th>158</th>\n",
       "      <td>JUAREZ Arpéggio 41 Inch Semi-Acoustic Guitar K...</td>\n",
       "      <td>JUAREZ</td>\n",
       "      <td>6,579.00</td>\n",
       "      <td>4.6 out of 5 stars</td>\n",
       "      <td>5 ratings</td>\n",
       "      <td>7 Days Replacement</td>\n",
       "      <td>Thursday, July 8</td>\n",
       "      <td>Available</td>\n",
       "      <td>https://www.amazon.in/JUAREZ-Arp%C3%A9ggio-Sem...</td>\n",
       "    </tr>\n",
       "    <tr>\n",
       "      <th>159</th>\n",
       "      <td>MUSTANG MT THM06 Guitar Pick  (Pack of 6)</td>\n",
       "      <td>MUSTANG</td>\n",
       "      <td>189.00</td>\n",
       "      <td>3.8 out of 5 stars</td>\n",
       "      <td>12 ratings</td>\n",
       "      <td>Amazon Delivered</td>\n",
       "      <td>Tuesday, July 6</td>\n",
       "      <td>Available</td>\n",
       "      <td>https://www.amazon.in/MUSTANG-MT-THM06-Guitar-...</td>\n",
       "    </tr>\n",
       "    <tr>\n",
       "      <th>160</th>\n",
       "      <td>Pluto HW41C-201 41-inch Cutaway Acoustic Guita...</td>\n",
       "      <td>Pluto</td>\n",
       "      <td>6,037.00</td>\n",
       "      <td>5.0 out of 5 stars</td>\n",
       "      <td>6 ratings</td>\n",
       "      <td>7 Days Replacement</td>\n",
       "      <td>Saturday, July 17</td>\n",
       "      <td>Available</td>\n",
       "      <td>https://www.amazon.in/Pluto-HW41C201-HW41C-201...</td>\n",
       "    </tr>\n",
       "    <tr>\n",
       "      <th>161</th>\n",
       "      <td>Martin Smith W-101-WHT-PK Acoustic Guitar Supe...</td>\n",
       "      <td>Martin Smith</td>\n",
       "      <td>6,359.00</td>\n",
       "      <td>3.3 out of 5 stars</td>\n",
       "      <td>13 ratings</td>\n",
       "      <td>7 Days Replacement</td>\n",
       "      <td>Friday, July 9</td>\n",
       "      <td>Available</td>\n",
       "      <td>https://www.amazon.in/Martin-Smith-W-101-WHT-P...</td>\n",
       "    </tr>\n",
       "  </tbody>\n",
       "</table>\n",
       "<p>162 rows × 9 columns</p>\n",
       "</div>"
      ],
      "text/plain": [
       "                                               Product         Brand  \\\n",
       "0    Kadence Frontier Jumbo Semi Acoustic Guitar Wi...       Kadence   \n",
       "1    JUAREZ Arpéggio 41 Inch Acoustic Guitar Kit, S...        JUAREZ   \n",
       "2    Kadence Frontier Series,Blue Acoustic Guitar W...       Kadence   \n",
       "3    Kadence Slowhand Premium Jumbo Semi Acoustic G...       Kadence   \n",
       "4    Juârez Acoustic Guitar, 38 Inch Cutaway, 038C ...        Juârez   \n",
       "..                                                 ...           ...   \n",
       "157  FIRANDE Acoustic Guitar MF38C SunBurst 38 Inch...       FIRANDE   \n",
       "158  JUAREZ Arpéggio 41 Inch Semi-Acoustic Guitar K...        JUAREZ   \n",
       "159          MUSTANG MT THM06 Guitar Pick  (Pack of 6)       MUSTANG   \n",
       "160  Pluto HW41C-201 41-inch Cutaway Acoustic Guita...         Pluto   \n",
       "161  Martin Smith W-101-WHT-PK Acoustic Guitar Supe...  Martin Smith   \n",
       "\n",
       "         Price              Rating   No of Ratings  Return_or_exchange  \\\n",
       "0     6,499.00  3.9 out of 5 stars     868 ratings  7 Days Replacement   \n",
       "1            -  4.0 out of 5 stars      11 ratings  7 Days Replacement   \n",
       "2     4,999.00  4.0 out of 5 stars     249 ratings  7 Days Replacement   \n",
       "3    10,499.00  4.2 out of 5 stars     223 ratings  7 Days Replacement   \n",
       "4     2,499.00  3.9 out of 5 stars  10,755 ratings  7 Days Replacement   \n",
       "..         ...                 ...             ...                 ...   \n",
       "157     969.00                   -               -    Amazon Delivered   \n",
       "158   6,579.00  4.6 out of 5 stars       5 ratings  7 Days Replacement   \n",
       "159     189.00  3.8 out of 5 stars      12 ratings    Amazon Delivered   \n",
       "160   6,037.00  5.0 out of 5 stars       6 ratings  7 Days Replacement   \n",
       "161   6,359.00  3.3 out of 5 stars      13 ratings  7 Days Replacement   \n",
       "\n",
       "           Delivery_by   Availability  \\\n",
       "0    Saturday, July 10      Available   \n",
       "1                    -  Not Available   \n",
       "2    Saturday, July 10      Available   \n",
       "3    Saturday, July 10      Available   \n",
       "4    Saturday, July 10      Available   \n",
       "..                 ...            ...   \n",
       "157     Friday, July 9      Available   \n",
       "158   Thursday, July 8      Available   \n",
       "159    Tuesday, July 6      Available   \n",
       "160  Saturday, July 17      Available   \n",
       "161     Friday, July 9      Available   \n",
       "\n",
       "                                           Product_url  \n",
       "0    https://www.amazon.in/gp/slredirect/picassoRed...  \n",
       "1    https://www.amazon.in/gp/slredirect/picassoRed...  \n",
       "2    https://www.amazon.in/gp/slredirect/picassoRed...  \n",
       "3    https://www.amazon.in/gp/slredirect/picassoRed...  \n",
       "4    https://www.amazon.in/Juarez-Acoustic-Cutaway-...  \n",
       "..                                                 ...  \n",
       "157  https://www.amazon.in/FIRANDE-Acoustic-SunBurs...  \n",
       "158  https://www.amazon.in/JUAREZ-Arp%C3%A9ggio-Sem...  \n",
       "159  https://www.amazon.in/MUSTANG-MT-THM06-Guitar-...  \n",
       "160  https://www.amazon.in/Pluto-HW41C201-HW41C-201...  \n",
       "161  https://www.amazon.in/Martin-Smith-W-101-WHT-P...  \n",
       "\n",
       "[162 rows x 9 columns]"
      ]
     },
     "execution_count": 138,
     "metadata": {},
     "output_type": "execute_result"
    }
   ],
   "source": [
    "product_info = pd.DataFrame()\n",
    "product_info['Product'] = product_name\n",
    "product_info['Brand'] = brand_name\n",
    "product_info['Price'] = price\n",
    "product_info['Rating'] = rating\n",
    "product_info['No of Ratings'] = no_of_ratings\n",
    "product_info['Return_or_exchange'] = return_or_exchange\n",
    "product_info['Delivery_by'] = delivery_by\n",
    "product_info['Availability'] = availability\n",
    "product_info['Product_url'] = product_url\n",
    "\n",
    "product_info"
   ]
  },
  {
   "cell_type": "code",
   "execution_count": 139,
   "metadata": {},
   "outputs": [],
   "source": [
    "driver.close()"
   ]
  },
  {
   "cell_type": "markdown",
   "metadata": {},
   "source": [
    "# Q.3 Scraping Images from images.google.com"
   ]
  },
  {
   "cell_type": "code",
   "execution_count": 149,
   "metadata": {},
   "outputs": [],
   "source": [
    "driver  = webdriver.Chrome(\"chromedriver.exe\")"
   ]
  },
  {
   "cell_type": "code",
   "execution_count": 212,
   "metadata": {},
   "outputs": [],
   "source": [
    "url = 'http://www.images.google.com/'\n",
    "driver.get(url)"
   ]
  },
  {
   "cell_type": "code",
   "execution_count": 213,
   "metadata": {},
   "outputs": [
    {
     "data": {
      "text/plain": [
       "<selenium.webdriver.remote.webelement.WebElement (session=\"9a211e308a55276b5e4be0145d8f8da3\", element=\"9b9865df-36b4-4251-96ee-0c4ed7a4e8ea\")>"
      ]
     },
     "execution_count": 213,
     "metadata": {},
     "output_type": "execute_result"
    }
   ],
   "source": [
    "search_job = driver.find_element_by_xpath(\"//input[@class='gLFyf gsfi']\")\n",
    "search_job"
   ]
  },
  {
   "cell_type": "code",
   "execution_count": 214,
   "metadata": {},
   "outputs": [],
   "source": [
    "input = 'fruits'\n",
    "search_job.send_keys(input)"
   ]
  },
  {
   "cell_type": "code",
   "execution_count": 215,
   "metadata": {},
   "outputs": [],
   "source": [
    "search_button = driver.find_element_by_xpath(\"//button[@class='Tg7LZd']\")\n",
    "search_button.click()\n"
   ]
  },
  {
   "cell_type": "code",
   "execution_count": 216,
   "metadata": {},
   "outputs": [],
   "source": [
    "driver.execute_script(\"window.scrollTo(0, document.body.scrollHeight);\")\n",
    "time.sleep(5)"
   ]
  },
  {
   "cell_type": "code",
   "execution_count": 225,
   "metadata": {},
   "outputs": [],
   "source": [
    "img_urls = []\n",
    "img_tags = driver.find_elements_by_xpath(\"//img[@class='rg_i Q4LuWd']\")\n",
    "\n",
    "for i in img_tags:\n",
    "    i.click()\n",
    "    actual_images = driver.find_elements_by_css_selector('img.n3VNCb')\n",
    "    for actual_image in actual_images:\n",
    "        if actual_image.get_attribute('src') and 'https' in actual_image.get_attribute('src'):\n",
    "            img_urls.append(actual_image.get_attribute('src'))    \n"
   ]
  },
  {
   "cell_type": "code",
   "execution_count": 234,
   "metadata": {},
   "outputs": [
    {
     "name": "stdout",
     "output_type": "stream",
     "text": [
      "ERROR - COULD NOT SAVE https://7esl.com/wp-content/uploads/2017/12/fruit.jpg - cannot identify image file <_io.BytesIO object at 0x0000021479EBFA40>\n"
     ]
    }
   ],
   "source": [
    "os.chdir('D:\\Fruits')\n",
    "baseDir=os.getcwd()\n",
    "for i, url in enumerate(img_urls[0:100]):\n",
    "    file_name = f\"{i:101}.jpg\"\n",
    "    try:\n",
    "        image_content = requests.get(url).content\n",
    "        image_file = io.BytesIO(image_content)\n",
    "        image = Image.open(image_file).convert('RGB')\n",
    "        file_path = os.path.join(baseDir, file_name)\n",
    "        with open(file_path, 'wb') as f:\n",
    "            image.save(f, \"JPEG\", quality=85)\n",
    "    except Exception as e:\n",
    "        print(f\"ERROR - COULD NOT SAVE {url} - {e}\")"
   ]
  },
  {
   "cell_type": "code",
   "execution_count": 240,
   "metadata": {},
   "outputs": [],
   "source": [
    "from selenium.common.exceptions import ElementClickInterceptedException\n",
    "\n",
    "url = 'http://www.images.google.com/'\n",
    "driver.get(url)\n",
    "search_job = driver.find_element_by_xpath(\"//input[@class='gLFyf gsfi']\")\n",
    "search_job\n",
    "input = 'Cars'\n",
    "search_job.send_keys(input)\n",
    "search_button = driver.find_element_by_xpath(\"//button[@class='Tg7LZd']\")\n",
    "search_button.click()\n",
    "driver.execute_script(\"window.scrollTo(0, document.body.scrollHeight);\")\n",
    "time.sleep(5)\n",
    "img_urls = []\n",
    "img_tags = driver.find_elements_by_xpath(\"//img[@class='rg_i Q4LuWd']\")\n",
    "\n",
    "for i in range(0,len(img_tags)):\n",
    "    img=img_tags[i]\n",
    "    try:\n",
    "        img.click()\n",
    "        actual_images = driver.find_elements_by_css_selector('img.n3VNCb')\n",
    "        for actual_image in actual_images:\n",
    "            if actual_image.get_attribute('src') and 'https' in actual_image.get_attribute('src'):\n",
    "                img_urls.append(actual_image.get_attribute('src'))  \n",
    "    except ElementNotInteractableException or ElementClickInterceptedException as err:\n",
    "        print(err)\n",
    "os.chdir('D:\\Cars')\n",
    "baseDir=os.getcwd()\n",
    "for i, url in enumerate(img_urls[0:100]):\n",
    "    file_name = f\"{i:101}.jpg\"\n",
    "    try:\n",
    "        image_content = requests.get(url).content\n",
    "        image_file = io.BytesIO(image_content)\n",
    "        image = Image.open(image_file).convert('RGB')\n",
    "        file_path = os.path.join(baseDir, file_name)\n",
    "        with open(file_path, 'wb') as f:\n",
    "            image.save(f, \"JPEG\", quality=85)\n",
    "    except Exception as e:\n",
    "        pass"
   ]
  },
  {
   "cell_type": "code",
   "execution_count": 250,
   "metadata": {},
   "outputs": [],
   "source": [
    "from selenium.common.exceptions import ElementNotInteractableException\n",
    "\n",
    "url = 'http://www.images.google.com/'\n",
    "driver.get(url)\n",
    "search_job = driver.find_element_by_xpath(\"//input[@class='gLFyf gsfi']\")\n",
    "search_job\n",
    "input = 'Machine Learning'\n",
    "search_job.send_keys(input)\n",
    "search_button = driver.find_element_by_xpath(\"//button[@class='Tg7LZd']\")\n",
    "search_button.click()\n",
    "driver.execute_script(\"window.scrollTo(0, document.body.scrollHeight);\")\n",
    "time.sleep(5)\n",
    "img_urls = []\n",
    "img_tags = driver.find_elements_by_xpath(\"//img[@class='rg_i Q4LuWd']\")\n",
    "\n",
    "for i in range(0,len(img_tags)):\n",
    "    img=img_tags[i]\n",
    "    try:\n",
    "        img.click()\n",
    "        actual_images = driver.find_elements_by_css_selector('img.n3VNCb')\n",
    "        for actual_image in actual_images:\n",
    "            if actual_image.get_attribute('src') and 'https' in actual_image.get_attribute('src'):\n",
    "                img_urls.append(actual_image.get_attribute('src'))  \n",
    "    except  (ElementClickInterceptedException, ElementNotInteractableException) as e:\n",
    "        pass\n",
    "\n",
    "\n",
    "os.chdir('D:\\ML')\n",
    "baseDir=os.getcwd()\n",
    "for i, url in enumerate(img_urls[0:100]):\n",
    "    file_name = f\"{i:100}.jpg\"\n",
    "    try:\n",
    "        image_content = requests.get(url).content\n",
    "        image_file = io.BytesIO(image_content)\n",
    "        image = Image.open(image_file).convert('RGB')\n",
    "        file_path = os.path.join(baseDir, file_name)\n",
    "        with open(file_path, 'wb') as f:\n",
    "            image.save(f, \"JPEG\", quality=85)\n",
    "    except Exception as e:\n",
    "        pass"
   ]
  },
  {
   "cell_type": "code",
   "execution_count": 5,
   "metadata": {},
   "outputs": [],
   "source": [
    "driver.close()"
   ]
  },
  {
   "cell_type": "markdown",
   "metadata": {},
   "source": [
    "# Q5. Scraping geospatial Coordinates"
   ]
  },
  {
   "cell_type": "code",
   "execution_count": 6,
   "metadata": {},
   "outputs": [],
   "source": [
    "driver  = webdriver.Chrome(\"chromedriver.exe\")"
   ]
  },
  {
   "cell_type": "code",
   "execution_count": 7,
   "metadata": {},
   "outputs": [],
   "source": [
    "url = 'https://www.google.com/maps/'\n",
    "driver.get(url)"
   ]
  },
  {
   "cell_type": "code",
   "execution_count": 8,
   "metadata": {},
   "outputs": [],
   "source": [
    "search_job = driver.find_element_by_xpath(\"//input[@class='tactile-searchbox-input']\")\n",
    "search_job\n",
    "input = 'Hyderabad'\n",
    "search_job.send_keys(input)\n",
    "search_button = driver.find_element_by_xpath(\"//button[@class='searchbox-searchbutton']\")\n",
    "search_button.click()"
   ]
  },
  {
   "cell_type": "code",
   "execution_count": 11,
   "metadata": {},
   "outputs": [],
   "source": [
    "current_url = driver.current_url"
   ]
  },
  {
   "cell_type": "code",
   "execution_count": 12,
   "metadata": {},
   "outputs": [
    {
     "data": {
      "text/plain": [
       "'https://www.google.com/maps/place/Hyderabad,+Telangana/@17.4121531,78.1278477,10z/data=!4m5!3m4!1s0x3bcb99daeaebd2c7:0xae93b78392bafbc2!8m2!3d17.385044!4d78.486671'"
      ]
     },
     "execution_count": 12,
     "metadata": {},
     "output_type": "execute_result"
    }
   ],
   "source": [
    "current_url"
   ]
  },
  {
   "cell_type": "code",
   "execution_count": 15,
   "metadata": {},
   "outputs": [
    {
     "data": {
      "text/plain": [
       "'17.4121531,78.1278477,10z/data=!4m5!3m4!1s0x3bcb99daeaebd2c7:0xae93b78392bafbc2!8m2!3d17.385044!4d78.486671'"
      ]
     },
     "execution_count": 15,
     "metadata": {},
     "output_type": "execute_result"
    }
   ],
   "source": [
    "lat_long = current_url.split('@')\n",
    "lat_long[1]"
   ]
  },
  {
   "cell_type": "code",
   "execution_count": 18,
   "metadata": {},
   "outputs": [],
   "source": [
    "latitude = lat_long[1].split(',')[0]\n",
    "longitude = lat_long[1].split(',')[1]"
   ]
  },
  {
   "cell_type": "code",
   "execution_count": 17,
   "metadata": {},
   "outputs": [
    {
     "data": {
      "text/plain": [
       "'17.4121531'"
      ]
     },
     "execution_count": 17,
     "metadata": {},
     "output_type": "execute_result"
    }
   ],
   "source": [
    "latitude"
   ]
  },
  {
   "cell_type": "code",
   "execution_count": 19,
   "metadata": {},
   "outputs": [
    {
     "data": {
      "text/plain": [
       "'78.1278477'"
      ]
     },
     "execution_count": 19,
     "metadata": {},
     "output_type": "execute_result"
    }
   ],
   "source": [
    "longitude"
   ]
  },
  {
   "cell_type": "code",
   "execution_count": 20,
   "metadata": {},
   "outputs": [],
   "source": [
    "driver.close()"
   ]
  },
  {
   "cell_type": "markdown",
   "metadata": {},
   "source": [
    "# Q5. Scrape funding deals from 2nd quarter of 2020 from trak.in"
   ]
  },
  {
   "cell_type": "code",
   "execution_count": 21,
   "metadata": {},
   "outputs": [],
   "source": [
    "driver  = webdriver.Chrome(\"chromedriver.exe\")"
   ]
  },
  {
   "cell_type": "code",
   "execution_count": 22,
   "metadata": {},
   "outputs": [],
   "source": [
    "url = 'https://www.trak.in/'\n",
    "driver.get(url)"
   ]
  },
  {
   "cell_type": "code",
   "execution_count": 23,
   "metadata": {},
   "outputs": [],
   "source": [
    "fund_tag = driver.find_element_by_xpath(\"//li[@class='menu-have-icon menu-icon-type-fontawesome menu-item menu-item-type-post_type menu-item-object-page better-anim-fade menu-item-51510']//a\")\n",
    "fund_url = fund_tag.get_attribute('href')"
   ]
  },
  {
   "cell_type": "code",
   "execution_count": 24,
   "metadata": {},
   "outputs": [],
   "source": [
    "driver.get(fund_url)"
   ]
  },
  {
   "cell_type": "code",
   "execution_count": 41,
   "metadata": {},
   "outputs": [],
   "source": [
    "from selenium.webdriver.support.select import Select\n",
    "\n",
    "for i in (48,49,50):\n",
    "    sel = Select(driver.find_element_by_xpath(\"//select[@name='tablepress-\"+str(i)+\"_length']\"))\n",
    "    sel.select_by_index(3)\n"
   ]
  },
  {
   "cell_type": "code",
   "execution_count": 82,
   "metadata": {},
   "outputs": [
    {
     "name": "stdout",
     "output_type": "stream",
     "text": [
      "10\n",
      "12\n",
      "11\n"
     ]
    }
   ],
   "source": [
    "rows = []\n",
    "for i in (48,49,50):\n",
    "    rws = (driver.find_elements_by_xpath(\"//table[@id='tablepress-\"+str(i)+\"']//tbody//tr\"))\n",
    "    print(len(rws))\n",
    "    for j in rws:\n",
    "        rows.append(j)\n",
    "r = len(rows)"
   ]
  },
  {
   "cell_type": "code",
   "execution_count": 77,
   "metadata": {},
   "outputs": [],
   "source": [
    "cols = driver.find_elements_by_xpath(\"//table[@id='tablepress-49']//tbody//tr[1]//td\")\n",
    "c = len(cols)\n"
   ]
  },
  {
   "cell_type": "code",
   "execution_count": 78,
   "metadata": {},
   "outputs": [
    {
     "data": {
      "text/plain": [
       "9"
      ]
     },
     "execution_count": 78,
     "metadata": {},
     "output_type": "execute_result"
    }
   ],
   "source": [
    "c"
   ]
  },
  {
   "cell_type": "code",
   "execution_count": 79,
   "metadata": {},
   "outputs": [
    {
     "data": {
      "text/plain": [
       "33"
      ]
     },
     "execution_count": 79,
     "metadata": {},
     "output_type": "execute_result"
    }
   ],
   "source": [
    "r"
   ]
  },
  {
   "cell_type": "code",
   "execution_count": 91,
   "metadata": {},
   "outputs": [],
   "source": [
    "element = []\n",
    "for k in (48,49,50):\n",
    "    rws = (driver.find_elements_by_xpath(\"//table[@id='tablepress-\"+str(k)+\"']//tbody//tr\"))\n",
    "    r = len(rws)\n",
    "    for i in range(1,r+1):\n",
    "        row = []\n",
    "        for j in range(1,c+1):\n",
    "            d=driver.find_element_by_xpath(\"//table[@id='tablepress-\"+str(k)+\"']//tbody//tr[\"+str(i)+\"]//td[\"+str(j)+\"]\").text\n",
    "            row.append(d)\n",
    "        element.append(row)\n"
   ]
  },
  {
   "cell_type": "code",
   "execution_count": 92,
   "metadata": {},
   "outputs": [
    {
     "data": {
      "text/plain": [
       "['Sr. No.',\n",
       " 'Date (dd/mm/yyyy)',\n",
       " 'Startup Name',\n",
       " 'Industry / Vertical',\n",
       " 'Sub-Vertical',\n",
       " 'City / Location',\n",
       " \"Investors' Name\",\n",
       " 'Investment Type',\n",
       " 'Amount (In USD)']"
      ]
     },
     "execution_count": 92,
     "metadata": {},
     "output_type": "execute_result"
    }
   ],
   "source": [
    "col_tags = driver.find_elements_by_xpath(\"//table[@id='tablepress-49']//thead//tr//th\")\n",
    "col_names = []\n",
    "for i in col_tags:\n",
    "    col_names.append(i.get_attribute('aria-label').replace(': activate to sort column ascending',''))\n",
    "col_names"
   ]
  },
  {
   "cell_type": "code",
   "execution_count": 94,
   "metadata": {},
   "outputs": [
    {
     "data": {
      "text/html": [
       "<div>\n",
       "<style scoped>\n",
       "    .dataframe tbody tr th:only-of-type {\n",
       "        vertical-align: middle;\n",
       "    }\n",
       "\n",
       "    .dataframe tbody tr th {\n",
       "        vertical-align: top;\n",
       "    }\n",
       "\n",
       "    .dataframe thead th {\n",
       "        text-align: right;\n",
       "    }\n",
       "</style>\n",
       "<table border=\"1\" class=\"dataframe\">\n",
       "  <thead>\n",
       "    <tr style=\"text-align: right;\">\n",
       "      <th></th>\n",
       "      <th>0</th>\n",
       "      <th>1</th>\n",
       "      <th>2</th>\n",
       "      <th>3</th>\n",
       "      <th>4</th>\n",
       "      <th>5</th>\n",
       "      <th>6</th>\n",
       "      <th>7</th>\n",
       "      <th>8</th>\n",
       "    </tr>\n",
       "  </thead>\n",
       "  <tbody>\n",
       "    <tr>\n",
       "      <th>0</th>\n",
       "      <td>1</td>\n",
       "      <td>15/07/2020</td>\n",
       "      <td>Flipkart</td>\n",
       "      <td>E-commerce</td>\n",
       "      <td>E-commerce</td>\n",
       "      <td>Bangalore</td>\n",
       "      <td>Walmart Inc</td>\n",
       "      <td>M&amp;A</td>\n",
       "      <td>1,200,000,000</td>\n",
       "    </tr>\n",
       "    <tr>\n",
       "      <th>1</th>\n",
       "      <td>2</td>\n",
       "      <td>16/07/2020</td>\n",
       "      <td>Vedantu</td>\n",
       "      <td>EduTech</td>\n",
       "      <td>Online Tutoring</td>\n",
       "      <td>Bangalore</td>\n",
       "      <td>Coatue Management</td>\n",
       "      <td>Series D</td>\n",
       "      <td>100,000,000</td>\n",
       "    </tr>\n",
       "    <tr>\n",
       "      <th>2</th>\n",
       "      <td>3</td>\n",
       "      <td>16/07/2020</td>\n",
       "      <td>Crio</td>\n",
       "      <td>EduTech</td>\n",
       "      <td>Learning Platform for Developers</td>\n",
       "      <td>Bangalore</td>\n",
       "      <td>021 Capital</td>\n",
       "      <td>pre-Series A</td>\n",
       "      <td>934,160</td>\n",
       "    </tr>\n",
       "    <tr>\n",
       "      <th>3</th>\n",
       "      <td>4</td>\n",
       "      <td>14/07/2020</td>\n",
       "      <td>goDutch</td>\n",
       "      <td>FinTech</td>\n",
       "      <td>Group Payments</td>\n",
       "      <td>Mumbai</td>\n",
       "      <td>Matrix India,Y Combinator, Global Founders Cap...</td>\n",
       "      <td>Seed</td>\n",
       "      <td>1,700,000</td>\n",
       "    </tr>\n",
       "    <tr>\n",
       "      <th>4</th>\n",
       "      <td>5</td>\n",
       "      <td>13/07/2020</td>\n",
       "      <td>Mystifly</td>\n",
       "      <td>Airfare Marketplace</td>\n",
       "      <td>Ticketing, Airline Retailing, and Post-Ticketi...</td>\n",
       "      <td>Singapore and Bangalore</td>\n",
       "      <td>Recruit Co. Ltd.</td>\n",
       "      <td>pre-Series B</td>\n",
       "      <td>3,300,000</td>\n",
       "    </tr>\n",
       "  </tbody>\n",
       "</table>\n",
       "</div>"
      ],
      "text/plain": [
       "   0           1         2                    3  \\\n",
       "0  1  15/07/2020  Flipkart           E-commerce   \n",
       "1  2  16/07/2020   Vedantu              EduTech   \n",
       "2  3  16/07/2020      Crio              EduTech   \n",
       "3  4  14/07/2020   goDutch              FinTech   \n",
       "4  5  13/07/2020  Mystifly  Airfare Marketplace   \n",
       "\n",
       "                                                   4                        5  \\\n",
       "0                                         E-commerce                Bangalore   \n",
       "1                                    Online Tutoring                Bangalore   \n",
       "2                   Learning Platform for Developers                Bangalore   \n",
       "3                                     Group Payments                   Mumbai   \n",
       "4  Ticketing, Airline Retailing, and Post-Ticketi...  Singapore and Bangalore   \n",
       "\n",
       "                                                   6             7  \\\n",
       "0                                        Walmart Inc           M&A   \n",
       "1                                  Coatue Management      Series D   \n",
       "2                                        021 Capital  pre-Series A   \n",
       "3  Matrix India,Y Combinator, Global Founders Cap...          Seed   \n",
       "4                                   Recruit Co. Ltd.  pre-Series B   \n",
       "\n",
       "               8  \n",
       "0  1,200,000,000  \n",
       "1    100,000,000  \n",
       "2        934,160  \n",
       "3      1,700,000  \n",
       "4      3,300,000  "
      ]
     },
     "execution_count": 94,
     "metadata": {},
     "output_type": "execute_result"
    }
   ],
   "source": [
    "df = pd.DataFrame(element)\n",
    "df.head()"
   ]
  },
  {
   "cell_type": "code",
   "execution_count": 102,
   "metadata": {},
   "outputs": [
    {
     "data": {
      "text/html": [
       "<div>\n",
       "<style scoped>\n",
       "    .dataframe tbody tr th:only-of-type {\n",
       "        vertical-align: middle;\n",
       "    }\n",
       "\n",
       "    .dataframe tbody tr th {\n",
       "        vertical-align: top;\n",
       "    }\n",
       "\n",
       "    .dataframe thead th {\n",
       "        text-align: right;\n",
       "    }\n",
       "</style>\n",
       "<table border=\"1\" class=\"dataframe\">\n",
       "  <thead>\n",
       "    <tr style=\"text-align: right;\">\n",
       "      <th></th>\n",
       "      <th>Sr. No.</th>\n",
       "      <th>Date (dd/mm/yyyy)</th>\n",
       "      <th>Startup Name</th>\n",
       "      <th>Industry / Vertical</th>\n",
       "      <th>Sub-Vertical</th>\n",
       "      <th>City / Location</th>\n",
       "      <th>Investors' Name</th>\n",
       "      <th>Investment Type</th>\n",
       "      <th>Amount (In USD)</th>\n",
       "    </tr>\n",
       "  </thead>\n",
       "  <tbody>\n",
       "    <tr>\n",
       "      <th>0</th>\n",
       "      <td>1</td>\n",
       "      <td>15/07/2020</td>\n",
       "      <td>Flipkart</td>\n",
       "      <td>E-commerce</td>\n",
       "      <td>E-commerce</td>\n",
       "      <td>Bangalore</td>\n",
       "      <td>Walmart Inc</td>\n",
       "      <td>M&amp;A</td>\n",
       "      <td>1,200,000,000</td>\n",
       "    </tr>\n",
       "    <tr>\n",
       "      <th>1</th>\n",
       "      <td>2</td>\n",
       "      <td>16/07/2020</td>\n",
       "      <td>Vedantu</td>\n",
       "      <td>EduTech</td>\n",
       "      <td>Online Tutoring</td>\n",
       "      <td>Bangalore</td>\n",
       "      <td>Coatue Management</td>\n",
       "      <td>Series D</td>\n",
       "      <td>100,000,000</td>\n",
       "    </tr>\n",
       "    <tr>\n",
       "      <th>2</th>\n",
       "      <td>3</td>\n",
       "      <td>16/07/2020</td>\n",
       "      <td>Crio</td>\n",
       "      <td>EduTech</td>\n",
       "      <td>Learning Platform for Developers</td>\n",
       "      <td>Bangalore</td>\n",
       "      <td>021 Capital</td>\n",
       "      <td>pre-Series A</td>\n",
       "      <td>934,160</td>\n",
       "    </tr>\n",
       "    <tr>\n",
       "      <th>3</th>\n",
       "      <td>4</td>\n",
       "      <td>14/07/2020</td>\n",
       "      <td>goDutch</td>\n",
       "      <td>FinTech</td>\n",
       "      <td>Group Payments</td>\n",
       "      <td>Mumbai</td>\n",
       "      <td>Matrix India,Y Combinator, Global Founders Cap...</td>\n",
       "      <td>Seed</td>\n",
       "      <td>1,700,000</td>\n",
       "    </tr>\n",
       "    <tr>\n",
       "      <th>4</th>\n",
       "      <td>5</td>\n",
       "      <td>13/07/2020</td>\n",
       "      <td>Mystifly</td>\n",
       "      <td>Airfare Marketplace</td>\n",
       "      <td>Ticketing, Airline Retailing, and Post-Ticketi...</td>\n",
       "      <td>Singapore and Bangalore</td>\n",
       "      <td>Recruit Co. Ltd.</td>\n",
       "      <td>pre-Series B</td>\n",
       "      <td>3,300,000</td>\n",
       "    </tr>\n",
       "  </tbody>\n",
       "</table>\n",
       "</div>"
      ],
      "text/plain": [
       "  Sr. No. Date (dd/mm/yyyy) Startup Name  Industry / Vertical  \\\n",
       "0       1        15/07/2020     Flipkart           E-commerce   \n",
       "1       2        16/07/2020      Vedantu              EduTech   \n",
       "2       3        16/07/2020         Crio              EduTech   \n",
       "3       4        14/07/2020      goDutch              FinTech   \n",
       "4       5        13/07/2020     Mystifly  Airfare Marketplace   \n",
       "\n",
       "                                        Sub-Vertical          City / Location  \\\n",
       "0                                         E-commerce                Bangalore   \n",
       "1                                    Online Tutoring                Bangalore   \n",
       "2                   Learning Platform for Developers                Bangalore   \n",
       "3                                     Group Payments                   Mumbai   \n",
       "4  Ticketing, Airline Retailing, and Post-Ticketi...  Singapore and Bangalore   \n",
       "\n",
       "                                     Investors' Name Investment Type  \\\n",
       "0                                        Walmart Inc             M&A   \n",
       "1                                  Coatue Management        Series D   \n",
       "2                                        021 Capital    pre-Series A   \n",
       "3  Matrix India,Y Combinator, Global Founders Cap...            Seed   \n",
       "4                                   Recruit Co. Ltd.    pre-Series B   \n",
       "\n",
       "  Amount (In USD)  \n",
       "0   1,200,000,000  \n",
       "1     100,000,000  \n",
       "2         934,160  \n",
       "3       1,700,000  \n",
       "4       3,300,000  "
      ]
     },
     "execution_count": 102,
     "metadata": {},
     "output_type": "execute_result"
    }
   ],
   "source": [
    "df.columns = col_names\n",
    "df.head()"
   ]
  },
  {
   "cell_type": "code",
   "execution_count": null,
   "metadata": {},
   "outputs": [],
   "source": []
  }
 ],
 "metadata": {
  "kernelspec": {
   "display_name": "Python 3",
   "language": "python",
   "name": "python3"
  },
  "language_info": {
   "codemirror_mode": {
    "name": "ipython",
    "version": 3
   },
   "file_extension": ".py",
   "mimetype": "text/x-python",
   "name": "python",
   "nbconvert_exporter": "python",
   "pygments_lexer": "ipython3",
   "version": "3.8.5"
  }
 },
 "nbformat": 4,
 "nbformat_minor": 4
}
